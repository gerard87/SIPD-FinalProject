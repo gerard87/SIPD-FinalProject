{
 "cells": [
  {
   "cell_type": "code",
   "execution_count": 1,
   "metadata": {},
   "outputs": [],
   "source": [
    "import pyspark\n",
    "sc = pyspark.SparkContext('local[*]')"
   ]
  },
  {
   "cell_type": "code",
   "execution_count": 64,
   "metadata": {},
   "outputs": [
    {
     "name": "stdout",
     "output_type": "stream",
     "text": [
      "\n",
      "First record: {u'stats': {u'overview': {u'top10': 207, u'kills': 2118, u'kd': 1.62, u'matches': 1341, u'wins': 37, u'top25': 426, u'win_p': 2.76}, u'squads-pc': {u'top10': 1, u'kills': 14, u'kd': 0.5, u'matches': 28, u'wins': 0, u'top25': 3, u'win_p': 0.0}, u'solo-pc': {u'top10': 195, u'kills': 1932, u'kd': 1.73, u'matches': 1152, u'wins': 35, u'top25': 391, u'win_p': 3.04}, u'duos-pc': {u'top10': 11, u'kills': 172, u'kd': 1.08, u'matches': 161, u'wins': 2, u'top25': 32, u'win_p': 1.24}}, u'name': u'-Mantis-'}\n",
      "\n",
      "Top 10 wins: [(u'AlexRamiGaming', 3532), (u'TAYLOR_IS_ME', 3160), (u'JeDiiiKniiGhT', 3158), (u'Twitch_Svennoss', 3070), (u'Ninja', 3030), (u'NinjasHyper.V2', 3030), (u'Yt_burningbagel', 3017), (u'SinnersDemise', 2860), (u'FT_Fateu', 2857), (u'Fnatic_Ettnix', 2829)]\n"
     ]
    }
   ],
   "source": [
    "import json\n",
    "\n",
    "# Load dataset\n",
    "input = sc.textFile(\"data/dataset_fornite.json\")\n",
    "data = input.flatMap(lambda x: x.split(\"\\n\")).map(lambda x: json.loads(x))\n",
    "\n",
    "print(\"\\nFirst record: \"+format(data.first()))\n",
    "\n",
    "\n",
    "top_wins = data.map(lambda x: (x[\"name\"], x[\"stats\"][\"overview\"][\"wins\"])) \\\n",
    "                .reduceByKey(lambda a, b: a + b)\n",
    "print(\"\\nTop 10 wins: \"+format(top_wins.takeOrdered(10,key=lambda t: -t[1])))\n",
    "\n"
   ]
  },
  {
   "cell_type": "code",
   "execution_count": null,
   "metadata": {},
   "outputs": [],
   "source": []
  }
 ],
 "metadata": {
  "kernelspec": {
   "display_name": "Python 2",
   "language": "python",
   "name": "python2"
  },
  "language_info": {
   "codemirror_mode": {
    "name": "ipython",
    "version": 2
   },
   "file_extension": ".py",
   "mimetype": "text/x-python",
   "name": "python",
   "nbconvert_exporter": "python",
   "pygments_lexer": "ipython2",
   "version": "2.7.5"
  }
 },
 "nbformat": 4,
 "nbformat_minor": 2
}
