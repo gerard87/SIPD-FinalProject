{
 "cells": [
  {
   "cell_type": "code",
   "execution_count": 1,
   "metadata": {},
   "outputs": [],
   "source": [
    "import pyspark\n",
    "sc = pyspark.SparkContext('local[*]')"
   ]
  },
  {
   "cell_type": "code",
   "execution_count": 82,
   "metadata": {},
   "outputs": [
    {
     "name": "stdout",
     "output_type": "stream",
     "text": [
      "\n",
      "First record: {u'stats': {u'overview': {u'top10': 207, u'kills': 2118, u'kd': 1.62, u'matches': 1341, u'wins': 37, u'top25': 426, u'win_p': 2.76}, u'squads-pc': {u'top10': 1, u'kills': 14, u'kd': 0.5, u'matches': 28, u'wins': 0, u'top25': 3, u'win_p': 0.0}, u'solo-pc': {u'top10': 195, u'kills': 1932, u'kd': 1.73, u'matches': 1152, u'wins': 35, u'top25': 391, u'win_p': 3.04}, u'duos-pc': {u'top10': 11, u'kills': 172, u'kd': 1.08, u'matches': 161, u'wins': 2, u'top25': 32, u'win_p': 1.24}}, u'name': u'-Mantis-'}\n",
      "\n",
      "Top 10 wins: [(u'AlexRamiGaming', 3532), (u'TAYLOR_IS_ME', 3160), (u'JeDiiiKniiGhT', 3158), (u'Twitch_Svennoss', 3070), (u'Ninja', 3030), (u'NinjasHyper.V2', 3030), (u'Yt_burningbagel', 3017), (u'SinnersDemise', 2860), (u'FT_Fateu', 2857), (u'Fnatic_Ettnix', 2829)]\n",
      "\n",
      "User win percentage: [(u'NewkuXD', 100.0), (u'RazZzero0oRank1', 84.61538461538461), (u'HAODM', 81.57894736842105), (u'Twitch_Orcas', 75.67567567567568), (u'C4Brandon.TTv', 74.48979591836735), (u'TwitchRazZzero0o', 73.61601884570082), (u'noyn_p', 72.5453575240128), (u'Milixn', 70.0), (u'Syama_p', 67.87665886026542), (u'\\u3042\\u3081\\u3057\\u3087\\u30fc', 67.83555018137848)]\n",
      "\n",
      "User kills-deaths ratio: [(u'HAODM', 98.57142857142857), (u'RazZzero0oRank1', 38.25), (u'\\u5916\\u6302\\u7fa4337734', 29.073170731707318), (u'Joonsr6666', 26.033898305084747), (u'TwitchRazZzero0o', 23.575892857142858), (u'noyn_p', 22.285714285714285), (u'NoAntiCheatGGxD', 21.94736842105263), (u'Twitch_Orcas', 21.733333333333334), (u'TwitchTv Dcyker', 21.703614457831325), (u'\\u3042\\u3081\\u3057\\u3087\\u30fc', 20.827067669172934)]\n"
     ]
    }
   ],
   "source": [
    "import json\n",
    "\n",
    "# Load dataset\n",
    "input = sc.textFile(\"data/dataset_fornite.json\")\n",
    "data = input.flatMap(lambda x: x.split(\"\\n\")).map(lambda x: json.loads(x))\n",
    "\n",
    "print(\"\\nFirst record: \"+format(data.first()))\n",
    "\n",
    "\n",
    "# Top 10 wins\n",
    "top_wins = data.map(lambda x: (x[\"name\"], x[\"stats\"][\"overview\"][\"wins\"])) \\\n",
    "                .reduceByKey(lambda a, b: a + b)\n",
    "print(\"\\nTop 10 wins: \"+format(top_wins.takeOrdered(10,key=lambda t: -t[1])))\n",
    "\n",
    "\n",
    "# User win percentage\n",
    "win_percentage = data.map(lambda x: (x[\"name\"], (x[\"stats\"][\"overview\"][\"wins\"], \\\n",
    "                                                 x[\"stats\"][\"overview\"][\"matches\"]))) \\\n",
    "                        .aggregateByKey((0.0, 0.0), \\\n",
    "                                        (lambda x, y: (y[0]*100, x[1] + y[1])), \\\n",
    "                                        (lambda x, y: (x[0] + y[0], x[1] + y[1]))) \\\n",
    "                        .mapValues(lambda x: (x[0] / x[1]))\n",
    "                \n",
    "print(\"\\nUser win percentage: \"+format(win_percentage.takeOrdered(10,key=lambda t: -t[1])))\n",
    "\n",
    "\n",
    "# User kills-deaths ratio (kills/(matches-wins))\n",
    "kill_deaths = data.map(lambda x: (x[\"name\"], (x[\"stats\"][\"overview\"][\"kills\"], \\\n",
    "                                              x[\"stats\"][\"overview\"][\"matches\"], \\\n",
    "                                              x[\"stats\"][\"overview\"][\"wins\"]))) \\\n",
    "                .aggregateByKey((0.0, 0.0), \\\n",
    "                                (lambda x, y: (x[0] + y[0], y[1] - y[2])), \\\n",
    "                                (lambda x, y: (x[0] + y[0], x[1] + y[1]))) \\\n",
    "                .mapValues(lambda x: (x[0] / x[1]) if x[1] != 0 else x[0])\n",
    "\n",
    "print(\"\\nUser kills-deaths ratio: \"+format(kill_deaths.takeOrdered(10,key=lambda t: -t[1])))\n"
   ]
  },
  {
   "cell_type": "code",
   "execution_count": null,
   "metadata": {},
   "outputs": [],
   "source": []
  }
 ],
 "metadata": {
  "kernelspec": {
   "display_name": "Python 2",
   "language": "python",
   "name": "python2"
  },
  "language_info": {
   "codemirror_mode": {
    "name": "ipython",
    "version": 2
   },
   "file_extension": ".py",
   "mimetype": "text/x-python",
   "name": "python",
   "nbconvert_exporter": "python",
   "pygments_lexer": "ipython2",
   "version": "2.7.5"
  }
 },
 "nbformat": 4,
 "nbformat_minor": 2
}
