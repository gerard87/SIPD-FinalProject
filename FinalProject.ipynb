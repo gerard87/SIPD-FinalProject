{
 "cells": [
  {
   "cell_type": "code",
   "execution_count": 1,
   "metadata": {},
   "outputs": [],
   "source": [
    "import pyspark\n",
    "sc = pyspark.SparkContext('local[*]')"
   ]
  },
  {
   "cell_type": "code",
   "execution_count": 13,
   "metadata": {},
   "outputs": [
    {
     "name": "stdout",
     "output_type": "stream",
     "text": [
      "\n",
      "First record: [u'{\"name\": \"-Mantis-\", \"stats\": {\"overview\": {\"wins\": 37, \"top10\": 207, \"top25\": 426, \"kills\": 2118, \"kd\": 1.62, \"matches\": 1341, \"win_p\": 2.76}, \"solo-pc\": {\"wins\": 35, \"top10\": 195, \"top25\": 391, \"kills\": 1932, \"kd\": 1.73, \"matches\": 1152, \"win_p\": 3.04}, \"duos-pc\": {\"wins\": 2, \"top10\": 11, \"top25\": 32, \"kills\": 172, \"kd\": 1.08, \"matches\": 161, \"win_p\": 1.24}, \"squads-pc\": {\"wins\": 0, \"top10\": 1, \"top25\": 3, \"kills\": 14, \"kd\": 0.5, \"matches\": 28, \"win_p\": 0.0}}}']\n"
     ]
    }
   ],
   "source": [
    "# Load dataset\n",
    "input = sc.textFile(\"data/dataset_fornite.json\")\n",
    "data = input.map(lambda x: x.split(\"\\n\"))\n",
    "\n",
    "print(\"\\nFirst record: \"+format(data.first()))"
   ]
  },
  {
   "cell_type": "code",
   "execution_count": null,
   "metadata": {},
   "outputs": [],
   "source": []
  }
 ],
 "metadata": {
  "kernelspec": {
   "display_name": "Python 2",
   "language": "python",
   "name": "python2"
  },
  "language_info": {
   "codemirror_mode": {
    "name": "ipython",
    "version": 2
   },
   "file_extension": ".py",
   "mimetype": "text/x-python",
   "name": "python",
   "nbconvert_exporter": "python",
   "pygments_lexer": "ipython2",
   "version": "2.7.5"
  }
 },
 "nbformat": 4,
 "nbformat_minor": 2
}
